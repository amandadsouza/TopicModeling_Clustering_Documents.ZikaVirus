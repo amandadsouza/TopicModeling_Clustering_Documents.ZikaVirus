{
 "cells": [
  {
   "cell_type": "markdown",
   "metadata": {},
   "source": [
    "<h1> Projeto </h1>\n",
    "<b>\n",
    "<br>"
   ]
  },
  {
   "cell_type": "markdown",
   "metadata": {},
   "source": [
    "<h1> Doutorado em Gestão e Organização do Conhecimento </h1>\n",
    "<br>\n",
    "\n",
    "<b> Discipline: Representação Distribuídas de Texto e Modelagem de Tópicos </b>\n",
    "<br>\n",
    "<b> Course: Data Mining and Modeling </b>\n",
    "<br>\n",
    "<b> Professor: Renato Rocha Souza </b>\n",
    "<br>\n",
    "<b> Professor: Mauricio Barcellos Almeida </b>\n",
    "<br>\n",
    "<b> Aluna: Amanda Damasceno de Souza </b>\n",
    "<br>\n",
    "<i> Topic: Modelling and Clustering documents </i>\n",
    "\n",
    "<i> A motivação deste projeto é testar a similiaridade entre textos provenientes de fontes de informação da saúde sobre diagnóstico de <b>Vírus Zika<b/>.\n",
    "\n",
    "<i> As fontes comparadas serão:  World Health Organization (OMS), Centers for Disease Control and Prevention (CDC) e uma fonte colaborativa a Wikipedia. </i>\n",
    "\n",
    "Dataset utlizados <a href='https://en.wikipedia.org/wiki/Zika_virus'> Wikipedia </a>.\n",
    "<a href='http://www.who.int/mediacentre/factsheets/zika/en/'> WHO </a>.\n",
    "<a href='https://www.cdc.gov/zika/hc-providers/preparing-for-zika/clinicalevaluationdisease.html'> CDC </a>.\n",
    "\n",
    "<b>Referências</b>\n",
    "<br>\n",
    "<a href='https://paulovasconcellos.com.br/como-criar-seu-primeiro-projeto-de-data-science-parte-2-de-2-cb9a2fe05eff'> Como criar seu primeiro projeto data science </a> \n",
    "<br>\n",
    "<a href='https://paulovasconcellos.com.br/como-baixar-anaconda-31fd49c19bd8'> como baixar Anaconda </a>\n",
    "<br>\n",
    "<a href='https://www.oreilly.com/learning/how-do-i-compare-document-similarity-using-python'> How compare document similarity using python'</a>"
   ]
  },
  {
   "cell_type": "code",
   "execution_count": 1,
   "metadata": {
    "collapsed": true
   },
   "outputs": [],
   "source": [
    "outputs = \"c:outputs\""
   ]
  },
  {
   "cell_type": "code",
   "execution_count": 2,
   "metadata": {},
   "outputs": [
    {
     "name": "stderr",
     "output_type": "stream",
     "text": [
      "C:\\Users\\Amanda\\Anaconda3\\lib\\site-packages\\gensim\\utils.py:860: UserWarning: detected Windows; aliasing chunkize to chunkize_serial\n",
      "  warnings.warn(\"detected Windows; aliasing chunkize to chunkize_serial\")\n"
     ]
    }
   ],
   "source": [
    "import re\n",
    "import os\n",
    "import codecs\n",
    "import string\n",
    "import numpy as np\n",
    "import pandas as pd\n",
    "import gensim\n",
    "\n",
    "import nltk\n",
    "from nltk.corpus import stopwords\n",
    "from nltk.stem.wordnet import WordNetLemmatizer\n",
    "from nltk.tokenize import word_tokenize\n",
    "\n",
    "from bs4 import BeautifulSoup\n",
    "import matplotlib.pyplot as plt\n",
    "import matplotlib as mpl\n",
    "from sklearn import feature_extraction\n",
    "import mpld3\n",
    "\n",
    "import pyLDAvis\n",
    "import pyLDAvis.gensim\n",
    "from IPython.display import Image\n",
    "\n",
    "%matplotlib inline\n",
    "#%matplotlib notebook"
   ]
  },
  {
   "cell_type": "code",
   "execution_count": 3,
   "metadata": {
    "collapsed": true
   },
   "outputs": [],
   "source": [
    "import warnings\n",
    "warnings.filterwarnings(action='ignore', category=UserWarning, module='gensim')\n",
    "\n",
    "import gensim"
   ]
  },
  {
   "cell_type": "code",
   "execution_count": 4,
   "metadata": {
    "collapsed": true
   },
   "outputs": [],
   "source": [
    "import matplotlib.pyplot as plt"
   ]
  },
  {
   "cell_type": "code",
   "execution_count": 5,
   "metadata": {},
   "outputs": [
    {
     "data": {
      "text/plain": [
       "[<matplotlib.lines.Line2D at 0x2482ad92080>]"
      ]
     },
     "execution_count": 5,
     "metadata": {},
     "output_type": "execute_result"
    },
    {
     "data": {
      "image/png": "[encoded data removed]",
      "text/plain": [
       "<matplotlib.figure.Figure at 0x2482abf07b8>"
      ]
     },
     "metadata": {},
     "output_type": "display_data"
    }
   ],
   "source": [
    "plt.plot([3,1,4,1,5], 'ks-', mec='w', mew=5, ms=20)"
   ]
  },
  {
   "cell_type": "code",
   "execution_count": 6,
   "metadata": {
    "collapsed": true
   },
   "outputs": [],
   "source": [
    "plt.show()"
   ]
  },
  {
   "cell_type": "markdown",
   "metadata": {},
   "source": [
    "<h1> Como encontrar similaridades entre documento?</h1>\n",
    "<br>\n",
    "<i> utilizando a biblioteca gensim <i>"
   ]
  },
  {
   "cell_type": "code",
   "execution_count": 7,
   "metadata": {},
   "outputs": [
    {
     "name": "stdout",
     "output_type": "stream",
     "text": [
      "['NullHandler', '__builtins__', '__cached__', '__doc__', '__file__', '__loader__', '__name__', '__package__', '__path__', '__spec__', '__version__', 'corpora', 'interfaces', 'logger', 'logging', 'matutils', 'models', 'parsing', 'scripts', 'similarities', 'summarization', 'topic_coherence', 'utils']\n"
     ]
    }
   ],
   "source": [
    "import gensim\n",
    "print(dir(gensim))"
   ]
  },
  {
   "cell_type": "markdown",
   "metadata": {},
   "source": [
    "<h1>Criando os documentos</h1>\n",
    "<br>"
   ]
  },
  {
   "cell_type": "code",
   "execution_count": 8,
   "metadata": {},
   "outputs": [
    {
     "name": "stdout",
     "output_type": "stream",
     "text": [
      "Number of documents: 4\n"
     ]
    }
   ],
   "source": [
    "raw_documents = [\"Infection with Zika virus may be suspected based on symptoms and recent history of travel (e.g. residence in or travel to an area with active Zika virus transmission). A diagnosis of Zika virus infection can only be confirmed through laboratory tests on blood or other body fluids, such as urine, saliva or semen.\",\n",
    "                \"Based on the typical clinical features, the differential diagnosis for Zika virus infection is broad. In addition to dengue, other considerations include leptospirosis, malaria, rickettsia, group A streptococcus, rubella, measles, and parvovirus, enterovirus, adenovirus, and alphavirus infections.\",\n",
    "                \"Preliminary diagnosis is based on the patient’s clinical features, places and dates of travel, and activities. Laboratory diagnosis is generally accomplished by testing whole blood, serum, or plasma to detect virus, viral nucleic acid, or virus-specific immunoglobulin M and neutralizing antibodies.\",\n",
    "                \"Diagnosis is by testing the blood, urine, or saliva for the presence of Zika virus RNA when the person is sick.\"]\n",
    "\n",
    "print(\"Number of documents:\",len(raw_documents))"
   ]
  },
  {
   "cell_type": "markdown",
   "metadata": {},
   "source": [
    "<i> Utilizando NLTK to tokenize </i>\n",
    "<br>\n",
    "<i> Os documentos serão listados como tokens </i>\n"
   ]
  },
  {
   "cell_type": "code",
   "execution_count": 9,
   "metadata": {},
   "outputs": [
    {
     "name": "stdout",
     "output_type": "stream",
     "text": [
      "[['infection', 'with', 'zika', 'virus', 'may', 'be', 'suspected', 'based', 'on', 'symptoms', 'and', 'recent', 'history', 'of', 'travel', '(', 'e.g', '.', 'residence', 'in', 'or', 'travel', 'to', 'an', 'area', 'with', 'active', 'zika', 'virus', 'transmission', ')', '.', 'a', 'diagnosis', 'of', 'zika', 'virus', 'infection', 'can', 'only', 'be', 'confirmed', 'through', 'laboratory', 'tests', 'on', 'blood', 'or', 'other', 'body', 'fluids', ',', 'such', 'as', 'urine', ',', 'saliva', 'or', 'semen', '.'], ['based', 'on', 'the', 'typical', 'clinical', 'features', ',', 'the', 'differential', 'diagnosis', 'for', 'zika', 'virus', 'infection', 'is', 'broad', '.', 'in', 'addition', 'to', 'dengue', ',', 'other', 'considerations', 'include', 'leptospirosis', ',', 'malaria', ',', 'rickettsia', ',', 'group', 'a', 'streptococcus', ',', 'rubella', ',', 'measles', ',', 'and', 'parvovirus', ',', 'enterovirus', ',', 'adenovirus', ',', 'and', 'alphavirus', 'infections', '.'], ['preliminary', 'diagnosis', 'is', 'based', 'on', 'the', 'patient', '’', 's', 'clinical', 'features', ',', 'places', 'and', 'dates', 'of', 'travel', ',', 'and', 'activities', '.', 'laboratory', 'diagnosis', 'is', 'generally', 'accomplished', 'by', 'testing', 'whole', 'blood', ',', 'serum', ',', 'or', 'plasma', 'to', 'detect', 'virus', ',', 'viral', 'nucleic', 'acid', ',', 'or', 'virus-specific', 'immunoglobulin', 'm', 'and', 'neutralizing', 'antibodies', '.'], ['diagnosis', 'is', 'by', 'testing', 'the', 'blood', ',', 'urine', ',', 'or', 'saliva', 'for', 'the', 'presence', 'of', 'zika', 'virus', 'rna', 'when', 'the', 'person', 'is', 'sick', '.']]\n"
     ]
    }
   ],
   "source": [
    "from nltk.tokenize import word_tokenize\n",
    "gen_docs = [[w.lower() for w in word_tokenize(text)] \n",
    "            for text in raw_documents]\n",
    "print(gen_docs)"
   ]
  },
  {
   "cell_type": "code",
   "execution_count": 10,
   "metadata": {},
   "outputs": [
    {
     "name": "stdout",
     "output_type": "stream",
     "text": [
      "showing info https://raw.githubusercontent.com/nltk/nltk_data/gh-pages/index.xml\n"
     ]
    },
    {
     "data": {
      "text/plain": [
       "True"
      ]
     },
     "execution_count": 10,
     "metadata": {},
     "output_type": "execute_result"
    }
   ],
   "source": [
    ">>> import nltk\n",
    ">>> nltk.download()\n"
   ]
  },
  {
   "cell_type": "markdown",
   "metadata": {},
   "source": [
    "<i>Criando o dicionário que irá indicar um número para cada palavra<i>\n"
   ]
  },
  {
   "cell_type": "code",
   "execution_count": 11,
   "metadata": {},
   "outputs": [
    {
     "name": "stdout",
     "output_type": "stream",
     "text": [
      "may\n",
      "3\n",
      "Number of words in dictionary: 97\n",
      "0 infection\n",
      "1 with\n",
      "2 zika\n",
      "3 virus\n",
      "4 may\n",
      "5 be\n",
      "6 suspected\n",
      "7 based\n",
      "8 on\n",
      "9 symptoms\n",
      "10 and\n",
      "11 recent\n",
      "12 history\n",
      "13 of\n",
      "14 travel\n",
      "15 (\n",
      "16 e.g\n",
      "17 .\n",
      "18 residence\n",
      "19 in\n",
      "20 or\n",
      "21 to\n",
      "22 an\n",
      "23 area\n",
      "24 active\n",
      "25 transmission\n",
      "26 )\n",
      "27 a\n",
      "28 diagnosis\n",
      "29 can\n",
      "30 only\n",
      "31 confirmed\n",
      "32 through\n",
      "33 laboratory\n",
      "34 tests\n",
      "35 blood\n",
      "36 other\n",
      "37 body\n",
      "38 fluids\n",
      "39 ,\n",
      "40 such\n",
      "41 as\n",
      "42 urine\n",
      "43 saliva\n",
      "44 semen\n",
      "45 the\n",
      "46 typical\n",
      "47 clinical\n",
      "48 features\n",
      "49 differential\n",
      "50 for\n",
      "51 is\n",
      "52 broad\n",
      "53 addition\n",
      "54 dengue\n",
      "55 considerations\n",
      "56 include\n",
      "57 leptospirosis\n",
      "58 malaria\n",
      "59 rickettsia\n",
      "60 group\n",
      "61 streptococcus\n",
      "62 rubella\n",
      "63 measles\n",
      "64 parvovirus\n",
      "65 enterovirus\n",
      "66 adenovirus\n",
      "67 alphavirus\n",
      "68 infections\n",
      "69 preliminary\n",
      "70 patient\n",
      "71 ’\n",
      "72 s\n",
      "73 places\n",
      "74 dates\n",
      "75 activities\n",
      "76 generally\n",
      "77 accomplished\n",
      "78 by\n",
      "79 testing\n",
      "80 whole\n",
      "81 serum\n",
      "82 plasma\n",
      "83 detect\n",
      "84 viral\n",
      "85 nucleic\n",
      "86 acid\n",
      "87 virus-specific\n",
      "88 immunoglobulin\n",
      "89 m\n",
      "90 neutralizing\n",
      "91 antibodies\n",
      "92 presence\n",
      "93 rna\n",
      "94 when\n",
      "95 person\n",
      "96 sick\n"
     ]
    }
   ],
   "source": [
    "dictionary = gensim.corpora.Dictionary(gen_docs)\n",
    "print(dictionary[4])\n",
    "print(dictionary.token2id['virus'])\n",
    "print(\"Number of words in dictionary:\",len(dictionary))\n",
    "for i in range(len(dictionary)):\n",
    "    print(i, dictionary[i])"
   ]
  },
  {
   "cell_type": "markdown",
   "metadata": {},
   "source": [
    "<i>Agora criaremos um corpus. Um corpus é uma lista de bag-of-words. </i>\n",
    "<br>\n",
    "<i>Uma representação de bag-of-words para um documento apenas lista o número de vezes que cada palavra ocorre no documento. </i>"
   ]
  },
  {
   "cell_type": "code",
   "execution_count": 12,
   "metadata": {},
   "outputs": [
    {
     "name": "stdout",
     "output_type": "stream",
     "text": [
      "[[(0, 2), (1, 2), (2, 3), (3, 3), (4, 1), (5, 2), (6, 1), (7, 1), (8, 2), (9, 1), (10, 1), (11, 1), (12, 1), (13, 2), (14, 2), (15, 1), (16, 1), (17, 3), (18, 1), (19, 1), (20, 3), (21, 1), (22, 1), (23, 1), (24, 1), (25, 1), (26, 1), (27, 1), (28, 1), (29, 1), (30, 1), (31, 1), (32, 1), (33, 1), (34, 1), (35, 1), (36, 1), (37, 1), (38, 1), (39, 2), (40, 1), (41, 1), (42, 1), (43, 1), (44, 1)], [(0, 1), (2, 1), (3, 1), (7, 1), (8, 1), (10, 2), (17, 2), (19, 1), (21, 1), (27, 1), (28, 1), (36, 1), (39, 11), (45, 2), (46, 1), (47, 1), (48, 1), (49, 1), (50, 1), (51, 1), (52, 1), (53, 1), (54, 1), (55, 1), (56, 1), (57, 1), (58, 1), (59, 1), (60, 1), (61, 1), (62, 1), (63, 1), (64, 1), (65, 1), (66, 1), (67, 1), (68, 1)], [(3, 1), (7, 1), (8, 1), (10, 3), (13, 1), (14, 1), (17, 2), (20, 2), (21, 1), (28, 2), (33, 1), (35, 1), (39, 6), (45, 1), (47, 1), (48, 1), (51, 2), (69, 1), (70, 1), (71, 1), (72, 1), (73, 1), (74, 1), (75, 1), (76, 1), (77, 1), (78, 1), (79, 1), (80, 1), (81, 1), (82, 1), (83, 1), (84, 1), (85, 1), (86, 1), (87, 1), (88, 1), (89, 1), (90, 1), (91, 1)], [(2, 1), (3, 1), (13, 1), (17, 1), (20, 1), (28, 1), (35, 1), (39, 2), (42, 1), (43, 1), (45, 3), (50, 1), (51, 2), (78, 1), (79, 1), (92, 1), (93, 1), (94, 1), (95, 1), (96, 1)]]\n"
     ]
    }
   ],
   "source": [
    "corpus = [dictionary.doc2bow(gen_doc) for gen_doc in gen_docs]\n",
    "print(corpus)"
   ]
  },
  {
   "cell_type": "markdown",
   "metadata": {},
   "source": [
    "<i>Agora, criamos um modelo tf-idf do corpus.<i>\n",
    "<br>\n",
    "<i>Observe que num_nnz é o número de tokens.</i>"
   ]
  },
  {
   "cell_type": "code",
   "execution_count": 13,
   "metadata": {},
   "outputs": [
    {
     "name": "stdout",
     "output_type": "stream",
     "text": [
      "TfidfModel(num_docs=4, num_nnz=142)\n",
      "142\n"
     ]
    }
   ],
   "source": [
    "tf_idf = gensim.models.TfidfModel(corpus)\n",
    "print(tf_idf)\n",
    "s = 0\n",
    "for i in corpus:\n",
    "    s += len(i)\n",
    "print(s)"
   ]
  },
  {
   "cell_type": "markdown",
   "metadata": {},
   "source": [
    "<i>Agora vamos criar um objeto de medida de similaridade no espaço tf-idf.</i>\n",
    "<br>\n",
    "<i> O tf-idf significa freqüência do documento freqüência-inversa do termo. Freqüência é a quantidade de vezes que o termo aparece no texto.</i>"
   ]
  },
  {
   "cell_type": "code",
   "execution_count": 14,
   "metadata": {},
   "outputs": [
    {
     "name": "stdout",
     "output_type": "stream",
     "text": [
      "Similarity index with 4 documents in 0 shards (stored under c:outputs)\n",
      "<class 'gensim.similarities.docsim.Similarity'>\n"
     ]
    }
   ],
   "source": [
    "sims = gensim.similarities.Similarity('c:outputs',tf_idf[corpus],num_features=len(dictionary))\n",
    "\n",
    "print(sims)\n",
    "\n",
    "print(type(sims))"
   ]
  },
  {
   "cell_type": "markdown",
   "metadata": {},
   "source": [
    "<i> Agora o passo seguinte cria um documento de consulta e converte em tf-idf.</i>"
   ]
  },
  {
   "cell_type": "code",
   "execution_count": 15,
   "metadata": {},
   "outputs": [
    {
     "name": "stdout",
     "output_type": "stream",
     "text": [
      "['diagnosis', 'is', 'by', 'testing', 'the', 'blood', ',', 'urine', ',', 'or', 'saliva', 'for', 'the', 'presence', 'of', 'zika', 'virus', 'rna', 'when', 'the', 'person', 'is', 'sick', '.']\n",
      "[(2, 1), (3, 1), (13, 1), (17, 1), (20, 1), (28, 1), (35, 1), (39, 2), (42, 1), (43, 1), (45, 3), (50, 1), (51, 2), (78, 1), (79, 1), (92, 1), (93, 1), (94, 1), (95, 1), (96, 1)]\n",
      "[(2, 0.07853525645576327), (13, 0.07853525645576327), (20, 0.07853525645576327), (35, 0.07853525645576327), (42, 0.18922448355202529), (43, 0.18922448355202529), (45, 0.2356057693672898), (50, 0.18922448355202529), (51, 0.15707051291152654), (78, 0.18922448355202529), (79, 0.18922448355202529), (92, 0.37844896710405057), (93, 0.37844896710405057), (94, 0.37844896710405057), (95, 0.37844896710405057), (96, 0.37844896710405057)]\n"
     ]
    }
   ],
   "source": [
    "query_doc = [w.lower() for w in word_tokenize(\"Diagnosis is by testing the blood, urine, or saliva for the presence of Zika virus RNA when the person is sick.\")]\n",
    "print(query_doc)\n",
    "query_doc_bow = dictionary.doc2bow(query_doc)\n",
    "print(query_doc_bow)\n",
    "query_doc_tf_idf = tf_idf[query_doc_bow]\n",
    "print(query_doc_tf_idf)"
   ]
  },
  {
   "cell_type": "code",
   "execution_count": 16,
   "metadata": {},
   "outputs": [
    {
     "name": "stdout",
     "output_type": "stream",
     "text": [
      "['infection', 'with', 'zika', 'virus', 'may', 'be', 'suspected', 'based', 'on', 'symptoms', 'and', 'recent', 'history', 'of', 'travel', '(', 'e.g', '.', 'residence', 'in', 'or', 'travel', 'to', 'an', 'area', 'with', 'active', 'zika', 'virus', 'transmission', ')', '.', 'a', 'diagnosis', 'of', 'zika', 'virus', 'infection', 'can', 'only', 'be', 'confirmed', 'through', 'laboratory', 'tests', 'on', 'blood', 'or', 'other', 'body', 'fluids', ',', 'such', 'as', 'urine', ',', 'saliva', 'or', 'semen', '.']\n",
      "[(0, 2), (1, 2), (2, 3), (3, 3), (4, 1), (5, 2), (6, 1), (7, 1), (8, 2), (9, 1), (10, 1), (11, 1), (12, 1), (13, 2), (14, 2), (15, 1), (16, 1), (17, 3), (18, 1), (19, 1), (20, 3), (21, 1), (22, 1), (23, 1), (24, 1), (25, 1), (26, 1), (27, 1), (28, 1), (29, 1), (30, 1), (31, 1), (32, 1), (33, 1), (34, 1), (35, 1), (36, 1), (37, 1), (38, 1), (39, 2), (40, 1), (41, 1), (42, 1), (43, 1), (44, 1)]\n",
      "[(0, 0.16715042926354995), (1, 0.3343008585270999), (2, 0.10406054424739353), (4, 0.16715042926354995), (5, 0.3343008585270999), (6, 0.16715042926354995), (7, 0.034686848082464514), (8, 0.06937369616492903), (9, 0.16715042926354995), (10, 0.034686848082464514), (11, 0.16715042926354995), (12, 0.16715042926354995), (13, 0.06937369616492903), (14, 0.16715042926354995), (15, 0.16715042926354995), (16, 0.16715042926354995), (18, 0.16715042926354995), (19, 0.08357521463177497), (20, 0.10406054424739353), (21, 0.034686848082464514), (22, 0.16715042926354995), (23, 0.16715042926354995), (24, 0.16715042926354995), (25, 0.16715042926354995), (26, 0.16715042926354995), (27, 0.08357521463177497), (29, 0.16715042926354995), (30, 0.16715042926354995), (31, 0.16715042926354995), (32, 0.16715042926354995), (33, 0.08357521463177497), (34, 0.16715042926354995), (35, 0.034686848082464514), (36, 0.08357521463177497), (37, 0.16715042926354995), (38, 0.16715042926354995), (40, 0.16715042926354995), (41, 0.16715042926354995), (42, 0.08357521463177497), (43, 0.08357521463177497), (44, 0.16715042926354995)]\n"
     ]
    }
   ],
   "source": [
    "query_doc = [w.lower() for w in word_tokenize(\"Infection with Zika virus may be suspected based on symptoms and recent history of travel (e.g. residence in or travel to an area with active Zika virus transmission). A diagnosis of Zika virus infection can only be confirmed through laboratory tests on blood or other body fluids, such as urine, saliva or semen.\")]\n",
    "print(query_doc)\n",
    "query_doc_bow = dictionary.doc2bow(query_doc)\n",
    "print(query_doc_bow)\n",
    "query_doc_tf_idf = tf_idf[query_doc_bow]\n",
    "print(query_doc_tf_idf)"
   ]
  },
  {
   "cell_type": "code",
   "execution_count": 17,
   "metadata": {},
   "outputs": [
    {
     "name": "stdout",
     "output_type": "stream",
     "text": [
      "['based', 'on', 'the', 'typical', 'clinical', 'features', ',', 'the', 'differential', 'diagnosis', 'for', 'zika', 'virus', 'infection', 'is', 'broad', '.', 'in', 'addition', 'to', 'dengue', ',', 'other', 'considerations', 'include', 'leptospirosis', ',', 'malaria', ',', 'rickettsia', ',', 'group', 'a', 'streptococcus', ',', 'rubella', ',', 'measles', ',', 'and', 'parvovirus', ',', 'enterovirus', ',', 'adenovirus', ',', 'and', 'alphavirus', 'infections', '.']\n",
      "[(0, 1), (2, 1), (3, 1), (7, 1), (8, 1), (10, 2), (17, 2), (19, 1), (21, 1), (27, 1), (28, 1), (36, 1), (39, 11), (45, 2), (46, 1), (47, 1), (48, 1), (49, 1), (50, 1), (51, 1), (52, 1), (53, 1), (54, 1), (55, 1), (56, 1), (57, 1), (58, 1), (59, 1), (60, 1), (61, 1), (62, 1), (63, 1), (64, 1), (65, 1), (66, 1), (67, 1), (68, 1)]\n",
      "[(0, 0.10831285094654547), (2, 0.04495389479661637), (7, 0.04495389479661637), (8, 0.04495389479661637), (10, 0.08990778959323274), (19, 0.10831285094654547), (21, 0.04495389479661637), (27, 0.10831285094654547), (36, 0.10831285094654547), (45, 0.08990778959323274), (46, 0.21662570189309094), (47, 0.10831285094654547), (48, 0.10831285094654547), (49, 0.21662570189309094), (50, 0.10831285094654547), (51, 0.04495389479661637), (52, 0.21662570189309094), (53, 0.21662570189309094), (54, 0.21662570189309094), (55, 0.21662570189309094), (56, 0.21662570189309094), (57, 0.21662570189309094), (58, 0.21662570189309094), (59, 0.21662570189309094), (60, 0.21662570189309094), (61, 0.21662570189309094), (62, 0.21662570189309094), (63, 0.21662570189309094), (64, 0.21662570189309094), (65, 0.21662570189309094), (66, 0.21662570189309094), (67, 0.21662570189309094), (68, 0.21662570189309094)]\n"
     ]
    }
   ],
   "source": [
    "query_doc = [w.lower() for w in word_tokenize(\"Based on the typical clinical features, the differential diagnosis for Zika virus infection is broad. In addition to dengue, other considerations include leptospirosis, malaria, rickettsia, group A streptococcus, rubella, measles, and parvovirus, enterovirus, adenovirus, and alphavirus infections.\")]\n",
    "print(query_doc)\n",
    "query_doc_bow = dictionary.doc2bow(query_doc)\n",
    "print(query_doc_bow)\n",
    "query_doc_tf_idf = tf_idf[query_doc_bow]\n",
    "print(query_doc_tf_idf)"
   ]
  },
  {
   "cell_type": "markdown",
   "metadata": {},
   "source": [
    "<i>Finalmente o ultimo codigo serve para mostrar a semelhança entre os textos, quais são mais semelhantes. </i>"
   ]
  },
  {
   "cell_type": "code",
   "execution_count": 18,
   "metadata": {},
   "outputs": [
    {
     "data": {
      "text/plain": [
       "array([ 0.05929513,  1.        ,  0.04736978,  0.05226963], dtype=float32)"
      ]
     },
     "execution_count": 18,
     "metadata": {},
     "output_type": "execute_result"
    }
   ],
   "source": [
    "sims[query_doc_tf_idf]"
   ]
  },
  {
   "cell_type": "markdown",
   "metadata": {},
   "source": [
    "<i>Nesta versao consegui solucionar o ultimo erro do codigo de output, sendo  apresnetados os resultados de similaridade entre os textos sobre diagnostico. Assim com as lições aprendidas durante o projeto, fiz uma lista de sites de ajudas, dicas e glossario </i>"
   ]
  },
  {
   "cell_type": "markdown",
   "metadata": {},
   "source": [
    "<h1>Python- conhecendo os  erros e exceções</h1>\n",
    "<br>\n",
    "\n",
    "<h1>Sites de ajuda</h1>\n",
    "<br>\n",
    "\n",
    "\n",
    "Possiveis <i>erros/problemas</i> podem ocorrer como o <b>gensim</b> não rodar, assim será necessário baixar o arquivo que pode ser encontrado no site abaixo (clicar no link):\n",
    "\n",
    "<a> Docker NLTK Download: <a href='https://mpld3.github.io/install.html'> </a>\n",
    "<br>\n",
    "\n",
    "<a> word2vec <a href='https://radimrehurek.com/gensim/models/word2vec.html'> </a>\n",
    "\n",
    "<a> gensim <a href='https://radimrehurek.com/gensim/install.html'> </a>\n",
    "\n",
    "<a> Erros prováveis <a href=' https://stackoverflow.com/questions/31143015/docker-nltk-download?noredirect=1&lq=1'> </a>\n",
    "\n",
    "<a> Tutorial no Github <a href=' https://mpld3.github.io/install.html'> </a>\n",
    "\n",
    "<a> Tutorial sobre erros <a href='https://anenadic.github.io/2014-11-10-manchester/novice/python/07-errors.html'> </a>\n",
    "\n",
    "<b>Outros sites</b>\n",
    "\n",
    "Sites https://mpld3.github.io/install.html Docker NLTK Download\n",
    "\n",
    "https://stackoverflow.com/questions/31143015/docker-nltk-download?noredirect=1&lq=1\n",
    "\n",
    "\n",
    "<b>Erros que aconteceram durante o projeto e foram solucionados:</b>\n",
    "\n",
    "python: SyntaxError: EOL while scanning string literal -\n",
    "\n",
    "---------------------------------------------------------------------------\n",
    "NameError                                 Traceback (most recent call last)\n",
    "<ipython-input-8-7c070fd98884> in <module>()\n",
    "----> 1 dictionary = gensim.corpora.Dictionary(gen_docs)\n",
    "      2 print(dictionary[5])\n",
    "      3 print(dictionary.token2id['road'])\n",
    "      4 print(\"Number of words in dictionary:\",len(dictionary))\n",
    "      5 for i in range(len(dictionary)):\n",
    "\n",
    "NameError: name 'gensim' is not defined\n",
    "\n",
    "---------------------------------------------------------------------------\n",
    "NameError                                 Traceback (most recent call last)\n",
    "<ipython-input-2-b4d2068345c2> in <module>()\n",
    "      1 from nltk.tokenize import word_tokenize\n",
    "      2 gen_docs = [[w.lower() for w in word_tokenize(text)] \n",
    "----> 3             for text in raw_documents]\n",
    "      4 print(gen_docs)\n",
    "\n",
    "NameError: name 'raw_documents' is not defined\n",
    "\n",
    "\n",
    "\n",
    "\n",
    "\n",
    "\n",
    "---------------------------------------------------------------------------\n",
    "ModuleNotFoundError                       Traceback (most recent call last)\n",
    "<ipython-input-3-0bc85fb32b73> in <module>()\n",
    "     16 import matplotlib as mpl\n",
    "     17 from sklearn import feature_extraction\n",
    "---> 18 import mpld3\n",
    "     19 \n",
    "     20 import pyLDAvis\n",
    "\n",
    "ModuleNotFoundError: No module named 'mpld3'\n",
    "\n",
    "\n",
    "\n",
    "<b>Caso ocorra o erro abaixo: LookupError: </b>\n",
    "\n",
    "\n",
    "Resource 'tokenizers/punkt/english.pickle' not found. Please use the NLTK Downloader to obtain the resource: >>> nltk.download() Searched in:\n",
    "- 'C:\\\\Users\\\\Amanda/nltk_data'\n",
    "- 'C:\\\\nltk_data'\n",
    "- 'D:\\\\nltk_data'\n",
    "- 'E:\\\\nltk_data'\n",
    "- 'C:\\\\Users\\\\Amanda\\\\Anaconda3\\\\nltk_data'\n",
    "- 'C:\\\\Users\\\\Amanda\\\\Anaconda3\\\\lib\\\\nltk_data'\n",
    "- 'C:\\\\Users\\\\Amanda\\\\AppData\\\\Roaming\\\\nltk_data'\n",
    "- ''\n",
    "\n",
    "sera necessario rodar o codigo:\n",
    ">>> import nltk\n",
    ">>> nltk.download()\n"
   ]
  },
  {
   "cell_type": "markdown",
   "metadata": {},
   "source": [
    "<h1>Dicas</h1>\n",
    "<br>\n",
    "\n",
    "Utilize o <i>Markdowns</i> para esclarecer como o trabalho foi desenvolvido. O <i>Markdowns</i> aceita HTML, assim utilize esta linguagem para melhorar apresentação do texto.\n",
    "\n",
    "\n",
    "Ao rodar os codigos problemas aparecem em relação ao gensim. Sera necessario entrar no navegador anaconda - environments - root - open terminal - acessar o ambiente da linha de comando e configurar os paths do Anaconda para instalar os pacotes necessarios. Na tela de comando digitar :<b> conda install gensim ou pip install gensim </b>\n",
    "\n",
    "Apos rodar os codigos novamente, pode aparecer o seguinte erro:\n",
    "\n",
    "<i>C:\\Users\\Amanda\\Anaconda3\\lib\\site-packages\\gensim\\utils.py:860: UserWarning: detected Windows; aliasing chunkize to chunkize_serial warnings.warn(\"detected Windows; aliasing chunkize to chunkize_serial\")</i>\n",
    "\n",
    "Assim sera necessario rodar o codigo abaixo na celula: \n",
    "\n",
    "<i>import warnings warnings.filterwarnings(action='ignore', category=UserWarning, module='gensim')\n",
    "\n",
    "import gensim</i>\n"
   ]
  },
  {
   "cell_type": "markdown",
   "metadata": {},
   "source": [
    "<h1>Glossário</h1>\n",
    "<br>\n",
    "\n",
    "Segue um site de <i>glossário</i> com terminologias utilizadas em programação\n",
    "\n",
    "https://anenadic.github.io/2014-11-10-manchester/gloss.html#traceback"
   ]
  },
  {
   "cell_type": "markdown",
   "metadata": {
    "collapsed": true
   },
   "source": [
    "<h1>Considerações finais</h1>\n",
    "<br>\n",
    "\n"
   ]
  },
  {
   "cell_type": "markdown",
   "metadata": {},
   "source": [
    "\n",
    "\n",
    "A programação em Python é  um recurso incrível para criar um projeto de <i>Data Science</i>. Entretanto é  necessario conhecer os códigos e ter todos os componentes necessarios instalados no computador para o projeto funcionar corretamente. \n",
    "<br> \n",
    "\n",
    "Neste projeto o objetivo era testar a similaridade de textos sobre diagnostico de virus zika e com isso buscar conhecer as proximidades ou distanciamento entre fonte de informações em saude consideradas oficiais das não oficiais.\n",
    "<br>\n",
    "\n",
    "Na sessão de <b>Dicas</b> do projeto reportei alguns problemas que foram enfrentados em relação a recursos necessários para os codigos rodarem corretamente, assim fiz a indicação de onde encontrar soluções. No meu projeto especificamente, mesmo fazendo a instalação dos componentes muitos problemas persistiram.\n",
    "\n",
    "O projeto foi o inicio de uma caminhada para aprender linguagem de programação e as diversas possibilidades de trabalhar a informação uitlizando os recursos de modelagem de topicos e <i>Data Science</i>. \n",
    "\n",
    "Alguns códigos deram muitos erros como o: matplotlib e mpld3. Tive que instalar varias vezes e testar com codigos diferentes do projeto, por isso tem um grafico no inicio deste projeto. \n",
    "\n",
    "Na ultima parte do projeto ocorreu um erro no <b> '/usr/workdir/ </b> o qual não encontrei solução na internet. Infelizmente este era o resultado de todo projeto.\n",
    "\n",
    "A intenção é continuar este projeto e testar em prontuarios eletronicos nos campos abertos de anamnese de pacientes diagnosticados com virus zika.\n",
    "\n",
    "<b> Amanda</b>"
   ]
  },
  {
   "cell_type": "code",
   "execution_count": null,
   "metadata": {
    "collapsed": true
   },
   "outputs": [],
   "source": []
  }
 ],
 "metadata": {
  "kernelspec": {
   "display_name": "Python 3",
   "language": "python",
   "name": "python3"
  },
  "language_info": {
   "codemirror_mode": {
    "name": "ipython",
    "version": 3
   },
   "file_extension": ".py",
   "mimetype": "text/x-python",
   "name": "python",
   "nbconvert_exporter": "python",
   "pygments_lexer": "ipython3",
   "version": "3.6.2"
  }
 },
 "nbformat": 4,
 "nbformat_minor": 2
}
