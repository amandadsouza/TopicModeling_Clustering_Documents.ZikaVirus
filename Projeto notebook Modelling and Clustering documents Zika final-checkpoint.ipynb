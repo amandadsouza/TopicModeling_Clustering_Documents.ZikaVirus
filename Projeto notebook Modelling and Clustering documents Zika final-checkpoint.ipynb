{
 "cells": [
  {
   "cell_type": "markdown",
   "metadata": {},
   "source": [
    "<h1> Projeto </h1>\n",
    "<b>\n",
    "<br>"
   ]
  },
  {
   "cell_type": "markdown",
   "metadata": {},
   "source": [
    "\n",
    "\n",
    "<h1> Doutorado em Gestão e Organização do Conhecimento </h1>\n",
    "<br>\n",
    "\n",
    "<b> Discipline: Representação Distribuídas de Texto e Modelagem de Tópicos </b>\n",
    "<br>\n",
    "<b> Course: Data Mining and Modeling </b>\n",
    "<br>\n",
    "<b> Professor: Renato Rocha Souza </b>\n",
    "<br>\n",
    "<b> Aluna: Amanda Damasceno de Souza </b>\n",
    "<br>\n",
    "<i> Topic: Modelling and Clustering documents </i>\n",
    "\n",
    "<i> A motivação deste projeto é testa a similiaridade entre textos provenientes de fontes de informação da saúde sobre diagnóstico de <b>Vírus Zika<b/>.\n",
    "\n",
    "<i> As fontes comparadas serão a da World Health Organization (OMS), Centers for Disease Control and Prevention (CDC) e um fonte colaborativa a Wikipedia. </i>\n",
    "\n",
    "Dataset utlizados <a href='https://en.wikipedia.org/wiki/Zika_virus'> Wikipedia </a>.\n",
    "<a href='http://www.who.int/mediacentre/factsheets/zika/en/'> WHO </a>.\n",
    "<a href='https://www.cdc.gov/zika/hc-providers/preparing-for-zika/clinicalevaluationdisease.html'> CDC </a>.\n",
    "\n",
    "<b>Referencias</b>\n",
    "<br>\n",
    "<a href='https://paulovasconcellos.com.br/como-criar-seu-primeiro-projeto-de-data-science-parte-2-de-2-cb9a2fe05eff'> Como criar seu primeiro projeto data science </a> \n",
    "<br>\n",
    "<a href='https://paulovasconcellos.com.br/como-baixar-anaconda-31fd49c19bd8'> como baixar Anaconda </a>\n",
    "<br>\n",
    "<a href='https://www.oreilly.com/learning/how-do-i-compare-document-similarity-using-python'> How compare document similarity using python'</a>"
   ]
  },
  {
   "cell_type": "code",
   "execution_count": 3,
   "metadata": {},
   "outputs": [
    {
     "ename": "ModuleNotFoundError",
     "evalue": "No module named 'mpld3'",
     "output_type": "error",
     "traceback": [
      "\u001b[1;31m---------------------------------------------------------------------------\u001b[0m",
      "\u001b[1;31mModuleNotFoundError\u001b[0m                       Traceback (most recent call last)",
      "\u001b[1;32m<ipython-input-3-0bc85fb32b73>\u001b[0m in \u001b[0;36m<module>\u001b[1;34m()\u001b[0m\n\u001b[0;32m     16\u001b[0m \u001b[1;32mimport\u001b[0m \u001b[0mmatplotlib\u001b[0m \u001b[1;32mas\u001b[0m \u001b[0mmpl\u001b[0m\u001b[1;33m\u001b[0m\u001b[0m\n\u001b[0;32m     17\u001b[0m \u001b[1;32mfrom\u001b[0m \u001b[0msklearn\u001b[0m \u001b[1;32mimport\u001b[0m \u001b[0mfeature_extraction\u001b[0m\u001b[1;33m\u001b[0m\u001b[0m\n\u001b[1;32m---> 18\u001b[1;33m \u001b[1;32mimport\u001b[0m \u001b[0mmpld3\u001b[0m\u001b[1;33m\u001b[0m\u001b[0m\n\u001b[0m\u001b[0;32m     19\u001b[0m \u001b[1;33m\u001b[0m\u001b[0m\n\u001b[0;32m     20\u001b[0m \u001b[1;32mimport\u001b[0m \u001b[0mpyLDAvis\u001b[0m\u001b[1;33m\u001b[0m\u001b[0m\n",
      "\u001b[1;31mModuleNotFoundError\u001b[0m: No module named 'mpld3'"
     ]
    }
   ],
   "source": [
    "import re\n",
    "import os\n",
    "import codecs\n",
    "import string\n",
    "import numpy as np\n",
    "import pandas as pd\n",
    "import gensim\n",
    "\n",
    "import nltk\n",
    "from nltk.corpus import stopwords\n",
    "from nltk.stem.wordnet import WordNetLemmatizer\n",
    "from nltk.tokenize import word_tokenize\n",
    "\n",
    "from bs4 import BeautifulSoup\n",
    "import matplotlib.pyplot as plt\n",
    "import matplotlib as mpl\n",
    "from sklearn import feature_extraction\n",
    "import mpld3\n",
    "\n",
    "import pyLDAvis\n",
    "import pyLDAvis.gensim\n",
    "from IPython.display import Image\n",
    "\n",
    "%matplotlib inline\n",
    "#%matplotlib notebook"
   ]
  },
  {
   "cell_type": "code",
   "execution_count": 4,
   "metadata": {
    "collapsed": true
   },
   "outputs": [],
   "source": [
    "import warnings\n",
    "warnings.filterwarnings(action='ignore', category=UserWarning, module='gensim')\n",
    "\n",
    "import gensim"
   ]
  },
  {
   "cell_type": "markdown",
   "metadata": {},
   "source": [
    "<h1> Como encontrar similaridades entre documento?</h1>\n",
    "<br>\n",
    "<i> utilizando a biblioteca gensim <i>"
   ]
  },
  {
   "cell_type": "code",
   "execution_count": 5,
   "metadata": {},
   "outputs": [
    {
     "name": "stdout",
     "output_type": "stream",
     "text": [
      "['NullHandler', '__builtins__', '__cached__', '__doc__', '__file__', '__loader__', '__name__', '__package__', '__path__', '__spec__', '__version__', 'corpora', 'interfaces', 'logger', 'logging', 'matutils', 'models', 'parsing', 'scripts', 'similarities', 'summarization', 'topic_coherence', 'utils']\n"
     ]
    }
   ],
   "source": [
    "import gensim\n",
    "print(dir(gensim))"
   ]
  },
  {
   "cell_type": "markdown",
   "metadata": {},
   "source": [
    "<h1>Criando os documentos</h1>\n",
    "<br>"
   ]
  },
  {
   "cell_type": "code",
   "execution_count": null,
   "metadata": {
    "collapsed": true
   },
   "outputs": [],
   "source": [
    "raw_documents = [\"Infection with Zika virus may be suspected based on symptoms and recent history of travel (e.g. residence in or travel to an area with active Zika virus transmission). A diagnosis of Zika virus infection can only be confirmed through laboratory tests on blood or other body fluids, such as urine, saliva or semen.\",\n",
    "                \"Based on the typical clinical features, the differential diagnosis for Zika virus infection is broad. In addition to dengue, other considerations include leptospirosis, malaria, rickettsia, group A streptococcus, rubella, measles, and parvovirus, enterovirus, adenovirus, and alphavirus infections (e.g., chikungunya, Mayaro, Ross River, Barmah Forest, o’nyong-nyong, and sindbis viruses).,\n",
    "                \"Preliminary diagnosis is based on the patient’s clinical features, places and dates of travel, and activities. Laboratory diagnosis is generally accomplished by testing whole blood, serum, or plasma to detect virus, viral nucleic acid, or virus-specific immunoglobulin M and neutralizing antibodies.\",\n",
    "                \"Diagnosis is by testing the blood, urine, or saliva for the presence of Zika virus RNA when the person is sick.\"]\n",
    "\n",
    "print(\"Number of documents:\",len(raw_documents))"
   ]
  },
  {
   "cell_type": "markdown",
   "metadata": {},
   "source": [
    "<i> Utilizando NLTK to tokenize </i>\n",
    "<br>\n",
    "<i> Os documentos serão listados como tokens </i>\n"
   ]
  },
  {
   "cell_type": "code",
   "execution_count": null,
   "metadata": {
    "collapsed": true
   },
   "outputs": [],
   "source": [
    "from nltk.tokenize import word_tokenize\n",
    "gen_docs = [[w.lower() for w in word_tokenize(text)] \n",
    "            for text in raw_documents]\n",
    "print(gen_docs)"
   ]
  },
  {
   "cell_type": "markdown",
   "metadata": {},
   "source": [
    "<i>Criando o dicionário que irá indicar um número para cada palavra<i>\n"
   ]
  },
  {
   "cell_type": "code",
   "execution_count": null,
   "metadata": {
    "collapsed": true
   },
   "outputs": [],
   "source": [
    "dictionary = gensim.corpora.Dictionary(gen_docs)\n",
    "print(dictionary[5])\n",
    "print(dictionary.token2id['road'])\n",
    "print(\"Number of words in dictionary:\",len(dictionary))\n",
    "for i in range(len(dictionary)):\n",
    "    print(i, dictionary[i])"
   ]
  },
  {
   "cell_type": "markdown",
   "metadata": {},
   "source": [
    "<i>Agora criaremos um corpus. Um corpus é uma lista de bag-of-words. </i>\n",
    "<br>\n",
    "<i>Uma representação de bag-of-words para um documento apenas lista o número de vezes que cada palavra ocorre no documento. </i>"
   ]
  },
  {
   "cell_type": "code",
   "execution_count": null,
   "metadata": {
    "collapsed": true
   },
   "outputs": [],
   "source": [
    "corpus = [dictionary.doc2bow(gen_doc) for gen_doc in gen_docs]\n",
    "print(corpus)"
   ]
  },
  {
   "cell_type": "markdown",
   "metadata": {},
   "source": [
    "<i>Agora, criamos um modelo tf-idf do corpus.<i>\n",
    "<br>\n",
    "<i>Observe que num_nnz é o número de tokens.</i>"
   ]
  },
  {
   "cell_type": "code",
   "execution_count": null,
   "metadata": {
    "collapsed": true
   },
   "outputs": [],
   "source": [
    "tf_idf = gensim.models.TfidfModel(corpus)\n",
    "print(tf_idf)\n",
    "s = 0\n",
    "for i in corpus:\n",
    "    s += len(i)\n",
    "print(s)"
   ]
  },
  {
   "cell_type": "markdown",
   "metadata": {},
   "source": [
    "<i>Agora vamos criar um objeto de medida de similaridade no espaço tf-idf.</i>\n",
    "<br>\n",
    "<i> O tf-idf significa freqüência do documento freqüência-inversa do termo. Freqüência é a quantidade de vezes que o termo aparece no texto.</i>"
   ]
  },
  {
   "cell_type": "code",
   "execution_count": null,
   "metadata": {
    "collapsed": true
   },
   "outputs": [],
   "source": [
    "sims = gensim.similarities.Similarity('/usr/workdir/',tf_idf[corpus],\n",
    "                                      num_features=len(dictionary))\n",
    "print(sims)\n",
    "print(type(sims))"
   ]
  },
  {
   "cell_type": "markdown",
   "metadata": {},
   "source": [
    "<i> Criar um documento de consulta e converta-o em tf-idf.</i>"
   ]
  },
  {
   "cell_type": "code",
   "execution_count": null,
   "metadata": {
    "collapsed": true
   },
   "outputs": [],
   "source": [
    "query_doc = [w.lower() for w in word_tokenize(\"Diagnosis is by testing the blood, urine, or saliva for the presence of Zika virus RNA when the person is sick.\")]\n",
    "print(query_doc)\n",
    "query_doc_bow = dictionary.doc2bow(query_doc)\n",
    "print(query_doc_bow)\n",
    "query_doc_tf_idf = tf_idf[query_doc_bow]\n",
    "print(query_doc_tf_idf)"
   ]
  },
  {
   "cell_type": "code",
   "execution_count": null,
   "metadata": {
    "collapsed": true
   },
   "outputs": [],
   "source": [
    "sims[query_doc_tf_idf]"
   ]
  },
  {
   "cell_type": "markdown",
   "metadata": {
    "collapsed": true
   },
   "source": [
    "# Documentos para formar o corpus"
   ]
  },
  {
   "cell_type": "code",
   "execution_count": null,
   "metadata": {
    "collapsed": true
   },
   "outputs": [],
   "source": [
    "doc3 = Zika Virus (wikipedia)"
   ]
  },
  {
   "cell_type": "code",
   "execution_count": null,
   "metadata": {
    "collapsed": true
   },
   "outputs": [],
   "source": [
    "doc2 = Diagnosis & Reporting(CDC)\n"
   ]
  },
  {
   "cell_type": "code",
   "execution_count": null,
   "metadata": {
    "collapsed": true
   },
   "outputs": [],
   "source": [
    "doc1 = Diagnosis (WHO)\n"
   ]
  },
  {
   "cell_type": "markdown",
   "metadata": {},
   "source": [
    "<h1>Preparando os documentos</h1>\n",
    "<br>"
   ]
  },
  {
   "cell_type": "code",
   "execution_count": null,
   "metadata": {
    "collapsed": true
   },
   "outputs": [],
   "source": [
    "doc1= Infection with Zika virus may be suspected based on symptoms and recent history of travel (e.g. residence in or travel to an area with active Zika virus transmission). A diagnosis of Zika virus infection can only be confirmed through laboratory tests on blood or other body fluids, such as urine, saliva or semen.\n",
    "\n",
    "doc2= Based on the typical clinical features, the differential diagnosis for Zika virus infection is broad. In addition to dengue, other considerations include leptospirosis, malaria, rickettsia, group A streptococcus, rubella, measles, and parvovirus, enterovirus, adenovirus, and alphavirus infections (e.g., chikungunya, Mayaro, Ross River, Barmah Forest, o’nyong-nyong, and sindbis viruses).\n",
    "Preliminary diagnosis is based on the patient’s clinical features, places and dates of travel, and activities. Laboratory diagnosis is generally accomplished by testing whole blood, serum, or plasma to detect virus, viral nucleic acid, or virus-specific immunoglobulin M and neutralizing antibodies.\n",
    "\n",
    "doc3= Diagnosis is by testing the blood, urine, or saliva for the presence of Zika virus RNA when the person is sick .Infection with Zika virus may be suspected based on symptoms and recent history of travel (e.g. residence in or travel to an area with active Zika virus transmission). A diagnosis of Zika virus infection can only be confirmed through laboratory tests on blood or other body fluids, such as urine, saliva or semen.\n",
    "\n",
    "# compile documents\n",
    "doc_complete = [doc1, doc2, doc3]"
   ]
  },
  {
   "cell_type": "markdown",
   "metadata": {},
   "source": [
    "<h1>Cleaning and Preprocessing</h1>\n",
    "<br>\n",
    "Cleaning is an important step before any text mining task, in this step, we will remove the punctuations, stopwords and normalize the corpus.\n"
   ]
  },
  {
   "cell_type": "markdown",
   "metadata": {
    "collapsed": true
   },
   "source": [
    "<h1>Instruções</h1>\n",
    "<br>"
   ]
  },
  {
   "cell_type": "markdown",
   "metadata": {},
   "source": [
    "Possiveis erros/problemas podem ocorrer como a biblioteca gensim não rodar, assim será necessário baixar o arquivo que pode ser encontrado no site abaixo:\n",
    "<a href='https://radimrehurek.com/gensim/models/word2vec.html'> word2vec</a>\n",
    "<a href='https://radimrehurek.com/gensim/install.html'> gensim</a>\n",
    "\n",
    "<i>Será necessário installar usando o prompt<i>"
   ]
  },
  {
   "cell_type": "markdown",
   "metadata": {},
   "source": [
    "<h1>Dicas</h1>\n",
    "<br>\n",
    "\n",
    "Utilize o <i>Markdowns</i> para esclarecer como o trabalho foi desenvolvido. O <i>Markdowns</i> aceita HTML, assim utilize esta linguagem para melhorar apresentação do texto.\n",
    "\n",
    "\n",
    "\n",
    "\n",
    "\n"
   ]
  },
  {
   "cell_type": "markdown",
   "metadata": {},
   "source": [
    "Ao rodar os codigos problemas aparecem em relacao ao gensim. Sera necessario entrar no navegador anaconda - environments - root - open terminal - acessar o ambiente da linha de comando e configurar os paths do Anaconda para instalar os pacotes necessarios, Na tela de comando digitar : conda install gensim ou pip install gensim\n",
    "\n",
    "Apos rodar os codigos novamente pode aparecer o seguinte erro:\n",
    "\n",
    "C:\\Users\\Amanda\\Anaconda3\\lib\\site-packages\\gensim\\utils.py:860: UserWarning: detected Windows; aliasing chunkize to chunkize_serial warnings.warn(\"detected Windows; aliasing chunkize to chunkize_serial\")\n",
    "\n",
    "Assim sera necessario rodar o codigo abaixo na celula: \n",
    "\n",
    "import warnings warnings.filterwarnings(action='ignore', category=UserWarning, module='gensim')\n",
    "\n",
    "import gensim\n"
   ]
  },
  {
   "cell_type": "markdown",
   "metadata": {
    "collapsed": true
   },
   "source": [
    "Caso ocorra o erro abaixo:\n",
    "LookupError: \n",
    "**********************************************************************\n",
    "  Resource 'tokenizers/punkt/english.pickle' not found.  Please\n",
    "  use the NLTK Downloader to obtain the resource:  >>>\n",
    "  nltk.download()\n",
    "  Searched in:\n",
    "    - 'C:\\\\Users\\\\Amanda/nltk_data'\n",
    "    - 'C:\\\\nltk_data'\n",
    "    - 'D:\\\\nltk_data'\n",
    "    - 'E:\\\\nltk_data'\n",
    "    - 'C:\\\\Users\\\\Amanda\\\\Anaconda3\\\\nltk_data'\n",
    "    - 'C:\\\\Users\\\\Amanda\\\\Anaconda3\\\\lib\\\\nltk_data'\n",
    "    - 'C:\\\\Users\\\\Amanda\\\\AppData\\\\Roaming\\\\nltk_data'\n",
    "    - ''\n",
    "    \n",
    "    sera necessario rodar o codigo:\n",
    "    >>> import nltk\n",
    "    >>> nltk.download()"
   ]
  },
  {
   "cell_type": "markdown",
   "metadata": {},
   "source": [
    "Sites\n",
    "https://mpld3.github.io/install.html\n",
    "Docker NLTK Download\n",
    "\n",
    "https://stackoverflow.com/questions/31143015/docker-nltk-download?noredirect=1&lq=1"
   ]
  },
  {
   "cell_type": "code",
   "execution_count": null,
   "metadata": {
    "collapsed": true
   },
   "outputs": [],
   "source": []
  }
 ],
 "metadata": {
  "kernelspec": {
   "display_name": "Python 3",
   "language": "python",
   "name": "python3"
  }
 },
 "nbformat": 4,
 "nbformat_minor": 2
}
